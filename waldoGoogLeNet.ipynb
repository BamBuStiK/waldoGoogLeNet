{
  "nbformat": 4,
  "nbformat_minor": 0,
  "metadata": {
    "colab": {
      "provenance": [],
      "gpuType": "T4",
      "include_colab_link": true
    },
    "kernelspec": {
      "name": "python3",
      "display_name": "Python 3"
    },
    "language_info": {
      "name": "python"
    },
    "accelerator": "GPU"
  },
  "cells": [
    {
      "cell_type": "markdown",
      "metadata": {
        "id": "view-in-github",
        "colab_type": "text"
      },
      "source": [
        "<a href=\"https://colab.research.google.com/github/BamBuStiK/waldoGoogLeNet/blob/main/waldoGoogLeNet.ipynb\" target=\"_parent\"><img src=\"https://colab.research.google.com/assets/colab-badge.svg\" alt=\"Open In Colab\"/></a>"
      ]
    },
    {
      "cell_type": "markdown",
      "source": [
        "성능 개선 (모델 수정, 데이터, 하이퍼메터 튜닝)\n",
        "\n",
        "목표 80% 현재 성능 70%\n",
        "1. 데이터 추가수집\n",
        "2. 모델\n",
        "3. 하이퍼 파라메터 수전(우선 순위 최하, 목표 80% 현재 성능 79.5%일때)"
      ],
      "metadata": {
        "id": "OupVVKiUQtUZ"
      }
    },
    {
      "cell_type": "code",
      "source": [
        "!pip install tensorflow"
      ],
      "metadata": {
        "id": "YOfcJU1v_TAW",
        "colab": {
          "base_uri": "https://localhost:8080/"
        },
        "outputId": "a5fcdc43-b3e1-41eb-9669-109571620e0d"
      },
      "execution_count": 52,
      "outputs": [
        {
          "output_type": "stream",
          "name": "stdout",
          "text": [
            "Requirement already satisfied: tensorflow in /usr/local/lib/python3.10/dist-packages (2.15.0)\n",
            "Requirement already satisfied: absl-py>=1.0.0 in /usr/local/lib/python3.10/dist-packages (from tensorflow) (1.4.0)\n",
            "Requirement already satisfied: astunparse>=1.6.0 in /usr/local/lib/python3.10/dist-packages (from tensorflow) (1.6.3)\n",
            "Requirement already satisfied: flatbuffers>=23.5.26 in /usr/local/lib/python3.10/dist-packages (from tensorflow) (23.5.26)\n",
            "Requirement already satisfied: gast!=0.5.0,!=0.5.1,!=0.5.2,>=0.2.1 in /usr/local/lib/python3.10/dist-packages (from tensorflow) (0.5.4)\n",
            "Requirement already satisfied: google-pasta>=0.1.1 in /usr/local/lib/python3.10/dist-packages (from tensorflow) (0.2.0)\n",
            "Requirement already satisfied: h5py>=2.9.0 in /usr/local/lib/python3.10/dist-packages (from tensorflow) (3.9.0)\n",
            "Requirement already satisfied: libclang>=13.0.0 in /usr/local/lib/python3.10/dist-packages (from tensorflow) (16.0.6)\n",
            "Requirement already satisfied: ml-dtypes~=0.2.0 in /usr/local/lib/python3.10/dist-packages (from tensorflow) (0.2.0)\n",
            "Requirement already satisfied: numpy<2.0.0,>=1.23.5 in /usr/local/lib/python3.10/dist-packages (from tensorflow) (1.25.2)\n",
            "Requirement already satisfied: opt-einsum>=2.3.2 in /usr/local/lib/python3.10/dist-packages (from tensorflow) (3.3.0)\n",
            "Requirement already satisfied: packaging in /usr/local/lib/python3.10/dist-packages (from tensorflow) (23.2)\n",
            "Requirement already satisfied: protobuf!=4.21.0,!=4.21.1,!=4.21.2,!=4.21.3,!=4.21.4,!=4.21.5,<5.0.0dev,>=3.20.3 in /usr/local/lib/python3.10/dist-packages (from tensorflow) (3.20.3)\n",
            "Requirement already satisfied: setuptools in /usr/local/lib/python3.10/dist-packages (from tensorflow) (67.7.2)\n",
            "Requirement already satisfied: six>=1.12.0 in /usr/local/lib/python3.10/dist-packages (from tensorflow) (1.16.0)\n",
            "Requirement already satisfied: termcolor>=1.1.0 in /usr/local/lib/python3.10/dist-packages (from tensorflow) (2.4.0)\n",
            "Requirement already satisfied: typing-extensions>=3.6.6 in /usr/local/lib/python3.10/dist-packages (from tensorflow) (4.9.0)\n",
            "Requirement already satisfied: wrapt<1.15,>=1.11.0 in /usr/local/lib/python3.10/dist-packages (from tensorflow) (1.14.1)\n",
            "Requirement already satisfied: tensorflow-io-gcs-filesystem>=0.23.1 in /usr/local/lib/python3.10/dist-packages (from tensorflow) (0.36.0)\n",
            "Requirement already satisfied: grpcio<2.0,>=1.24.3 in /usr/local/lib/python3.10/dist-packages (from tensorflow) (1.60.1)\n",
            "Requirement already satisfied: tensorboard<2.16,>=2.15 in /usr/local/lib/python3.10/dist-packages (from tensorflow) (2.15.2)\n",
            "Requirement already satisfied: tensorflow-estimator<2.16,>=2.15.0 in /usr/local/lib/python3.10/dist-packages (from tensorflow) (2.15.0)\n",
            "Requirement already satisfied: keras<2.16,>=2.15.0 in /usr/local/lib/python3.10/dist-packages (from tensorflow) (2.15.0)\n",
            "Requirement already satisfied: wheel<1.0,>=0.23.0 in /usr/local/lib/python3.10/dist-packages (from astunparse>=1.6.0->tensorflow) (0.42.0)\n",
            "Requirement already satisfied: google-auth<3,>=1.6.3 in /usr/local/lib/python3.10/dist-packages (from tensorboard<2.16,>=2.15->tensorflow) (2.27.0)\n",
            "Requirement already satisfied: google-auth-oauthlib<2,>=0.5 in /usr/local/lib/python3.10/dist-packages (from tensorboard<2.16,>=2.15->tensorflow) (1.2.0)\n",
            "Requirement already satisfied: markdown>=2.6.8 in /usr/local/lib/python3.10/dist-packages (from tensorboard<2.16,>=2.15->tensorflow) (3.5.2)\n",
            "Requirement already satisfied: requests<3,>=2.21.0 in /usr/local/lib/python3.10/dist-packages (from tensorboard<2.16,>=2.15->tensorflow) (2.31.0)\n",
            "Requirement already satisfied: tensorboard-data-server<0.8.0,>=0.7.0 in /usr/local/lib/python3.10/dist-packages (from tensorboard<2.16,>=2.15->tensorflow) (0.7.2)\n",
            "Requirement already satisfied: werkzeug>=1.0.1 in /usr/local/lib/python3.10/dist-packages (from tensorboard<2.16,>=2.15->tensorflow) (3.0.1)\n",
            "Requirement already satisfied: cachetools<6.0,>=2.0.0 in /usr/local/lib/python3.10/dist-packages (from google-auth<3,>=1.6.3->tensorboard<2.16,>=2.15->tensorflow) (5.3.2)\n",
            "Requirement already satisfied: pyasn1-modules>=0.2.1 in /usr/local/lib/python3.10/dist-packages (from google-auth<3,>=1.6.3->tensorboard<2.16,>=2.15->tensorflow) (0.3.0)\n",
            "Requirement already satisfied: rsa<5,>=3.1.4 in /usr/local/lib/python3.10/dist-packages (from google-auth<3,>=1.6.3->tensorboard<2.16,>=2.15->tensorflow) (4.9)\n",
            "Requirement already satisfied: requests-oauthlib>=0.7.0 in /usr/local/lib/python3.10/dist-packages (from google-auth-oauthlib<2,>=0.5->tensorboard<2.16,>=2.15->tensorflow) (1.3.1)\n",
            "Requirement already satisfied: charset-normalizer<4,>=2 in /usr/local/lib/python3.10/dist-packages (from requests<3,>=2.21.0->tensorboard<2.16,>=2.15->tensorflow) (3.3.2)\n",
            "Requirement already satisfied: idna<4,>=2.5 in /usr/local/lib/python3.10/dist-packages (from requests<3,>=2.21.0->tensorboard<2.16,>=2.15->tensorflow) (3.6)\n",
            "Requirement already satisfied: urllib3<3,>=1.21.1 in /usr/local/lib/python3.10/dist-packages (from requests<3,>=2.21.0->tensorboard<2.16,>=2.15->tensorflow) (2.0.7)\n",
            "Requirement already satisfied: certifi>=2017.4.17 in /usr/local/lib/python3.10/dist-packages (from requests<3,>=2.21.0->tensorboard<2.16,>=2.15->tensorflow) (2024.2.2)\n",
            "Requirement already satisfied: MarkupSafe>=2.1.1 in /usr/local/lib/python3.10/dist-packages (from werkzeug>=1.0.1->tensorboard<2.16,>=2.15->tensorflow) (2.1.5)\n",
            "Requirement already satisfied: pyasn1<0.6.0,>=0.4.6 in /usr/local/lib/python3.10/dist-packages (from pyasn1-modules>=0.2.1->google-auth<3,>=1.6.3->tensorboard<2.16,>=2.15->tensorflow) (0.5.1)\n",
            "Requirement already satisfied: oauthlib>=3.0.0 in /usr/local/lib/python3.10/dist-packages (from requests-oauthlib>=0.7.0->google-auth-oauthlib<2,>=0.5->tensorboard<2.16,>=2.15->tensorflow) (3.2.2)\n"
          ]
        }
      ]
    },
    {
      "cell_type": "code",
      "source": [
        "#from google.colab import drive\n",
        "#drive.mount('/content/drive')"
      ],
      "metadata": {
        "id": "HUDgBeQy8ln4"
      },
      "execution_count": 53,
      "outputs": []
    },
    {
      "cell_type": "code",
      "source": [
        "!mkdir dataset"
      ],
      "metadata": {
        "id": "59zN-_k7Y2PD",
        "colab": {
          "base_uri": "https://localhost:8080/"
        },
        "outputId": "afaf75b2-f2db-4295-a5b4-3853268d0a37"
      },
      "execution_count": 54,
      "outputs": [
        {
          "output_type": "stream",
          "name": "stdout",
          "text": [
            "mkdir: cannot create directory ‘dataset’: File exists\n"
          ]
        }
      ]
    },
    {
      "cell_type": "code",
      "source": [
        "!unzip /content/drive/MyDrive/my_datasets.zip -d /content/dataset"
      ],
      "metadata": {
        "id": "weTvuT1iY8Dd",
        "colab": {
          "base_uri": "https://localhost:8080/"
        },
        "outputId": "6a498d5e-aee3-4113-857d-34635c333a93"
      },
      "execution_count": 55,
      "outputs": [
        {
          "output_type": "stream",
          "name": "stdout",
          "text": [
            "Archive:  /content/drive/MyDrive/my_datasets.zip\n",
            "replace /content/dataset/burglar/burglar-001 (1).png? [y]es, [n]o, [A]ll, [N]one, [r]ename: N\n"
          ]
        }
      ]
    },
    {
      "cell_type": "code",
      "source": [
        "#waldo와 연관자들 전부 잡아내는 프로그램"
      ],
      "metadata": {
        "id": "3ybBIEW0ZSPL"
      },
      "execution_count": 56,
      "outputs": []
    },
    {
      "cell_type": "code",
      "source": [
        "x=[]\n",
        "y=[]"
      ],
      "metadata": {
        "id": "ctpE2WHnZ6ck"
      },
      "execution_count": 57,
      "outputs": []
    },
    {
      "cell_type": "code",
      "source": [
        "from google.colab import drive\n",
        "drive.mount('/content/drive')\n",
        "#전처리\n",
        "import PIL #python의 이미지 전처리 라이브러리\n",
        "import glob #대용량, 대규모 파일을 다룰때 사용\n",
        "import os #os, path 관련 조작, 변경, 파일 삭제 등\n",
        "import numpy as np\n",
        "import tensorflow as tf\n",
        "from tensorflow.keras import layers, models\n",
        "from tensorflow.python.distribute import input_lib\n",
        "import tensorflow_datasets as tfds\n",
        "from sklearn.model_selection import train_test_split"
      ],
      "metadata": {
        "id": "uTEEJ3p26pKc",
        "colab": {
          "base_uri": "https://localhost:8080/"
        },
        "outputId": "36ceebde-29a4-4d9d-8de7-36c6f763e04d"
      },
      "execution_count": 58,
      "outputs": [
        {
          "output_type": "stream",
          "name": "stdout",
          "text": [
            "Drive already mounted at /content/drive; to attempt to forcibly remount, call drive.mount(\"/content/drive\", force_remount=True).\n"
          ]
        }
      ]
    },
    {
      "cell_type": "code",
      "source": [
        "dataset_folder_path = '/content/dataset'\n",
        "category_cnt = len(os.listdir(dataset_folder_path)) #경로만 넣어주면 디렉토리 안의 파일들을 리스 형태로 보여줌\n",
        "os.listdir(dataset_folder_path)"
      ],
      "metadata": {
        "id": "4mUeoo-6apk7",
        "colab": {
          "base_uri": "https://localhost:8080/"
        },
        "outputId": "e73afb1a-c935-4a26-aad3-ccb005d41856"
      },
      "execution_count": 59,
      "outputs": [
        {
          "output_type": "execute_result",
          "data": {
            "text/plain": [
              "['burglar', 'person']"
            ]
          },
          "metadata": {},
          "execution_count": 59
        }
      ]
    },
    {
      "cell_type": "code",
      "source": [
        "#glob.glob(dataset_folder_path+'/*/*')\n",
        "#파일의 경로+/*을 입력하면 해당 폴더 하위 경로 상에 있는 모든 파일을 리스트로 리턴\n",
        "#dataset_folder_path+'/*/*' -> 하위 폴더의 하위 데이터 전체 리턴\n",
        "for label, folder in enumerate(os.listdir(dataset_folder_path)):\n",
        "  #print(dataset_folder_path + '/' + folder) 좋은 코드 아님\n",
        "  #windows에는 \\를 쓰므로 에러 #어떤 os에서든 돌아가게 만듬\n",
        "  #print(os.path.join(dataset_folder_path, folder)) # 유진 보수 좋은 코드\n",
        "  folder_full_path = os.path.join(dataset_folder_path, folder)\n",
        "  all_files = glob.glob(folder_full_path + '/*.jpeg')\n",
        "  all_files_png = glob.glob(folder_full_path + '/*.png')\n",
        "  all_files_jpg = glob.glob(folder_full_path + '/*.jpg')\n",
        "  all_files.extend(all_files_png)\n",
        "  all_files.extend(all_files_jpg)\n",
        "  #print(folder_full_path)\n",
        "  #print(all_files)\n",
        "\n",
        "  #labeling\n",
        "  for idx, file_full_path in enumerate(all_files):\n",
        "    #print(idx, file_full_path)\n",
        "    image = PIL.Image.open(file_full_path)\n",
        "    image = image.resize((64, 64))\n",
        "    image = image.convert('RGB')\n",
        "    #넘파이 행렬로 바꿈\n",
        "    data = np.asarray(image)\n",
        "    x.append(data)#x랑 y 현재 리슽 안에 넘파이 형태 있는 형태\n",
        "    y.append(label)\n",
        "    if idx % 30 == 0:\n",
        "      print(idx, '/', len(all_files))\n",
        "\n"
      ],
      "metadata": {
        "id": "1X5bsO8ubbgK",
        "colab": {
          "base_uri": "https://localhost:8080/"
        },
        "outputId": "f3fa081d-85ac-4966-c67b-4ac8c80f71ad"
      },
      "execution_count": 60,
      "outputs": [
        {
          "output_type": "stream",
          "name": "stdout",
          "text": [
            "0 / 392\n",
            "30 / 392\n",
            "60 / 392\n",
            "90 / 392\n",
            "120 / 392\n",
            "150 / 392\n",
            "180 / 392\n",
            "210 / 392\n",
            "240 / 392\n",
            "270 / 392\n",
            "300 / 392\n",
            "330 / 392\n",
            "360 / 392\n",
            "390 / 392\n",
            "0 / 1001\n",
            "30 / 1001\n",
            "60 / 1001\n",
            "90 / 1001\n",
            "120 / 1001\n",
            "150 / 1001\n",
            "180 / 1001\n",
            "210 / 1001\n",
            "240 / 1001\n",
            "270 / 1001\n",
            "300 / 1001\n",
            "330 / 1001\n",
            "360 / 1001\n",
            "390 / 1001\n",
            "420 / 1001\n",
            "450 / 1001\n",
            "480 / 1001\n",
            "510 / 1001\n",
            "540 / 1001\n",
            "570 / 1001\n",
            "600 / 1001\n",
            "630 / 1001\n",
            "660 / 1001\n",
            "690 / 1001\n",
            "720 / 1001\n",
            "750 / 1001\n",
            "780 / 1001\n",
            "810 / 1001\n",
            "840 / 1001\n",
            "870 / 1001\n",
            "900 / 1001\n",
            "930 / 1001\n",
            "960 / 1001\n",
            "990 / 1001\n"
          ]
        }
      ]
    },
    {
      "cell_type": "code",
      "source": [
        "from google.colab import drive\n",
        "drive.mount('/content/drive')"
      ],
      "metadata": {
        "colab": {
          "base_uri": "https://localhost:8080/"
        },
        "id": "yTFFjssLHp3a",
        "outputId": "a45c624b-3430-40ff-ba46-2ff75cd43529"
      },
      "execution_count": 61,
      "outputs": [
        {
          "output_type": "stream",
          "name": "stdout",
          "text": [
            "Drive already mounted at /content/drive; to attempt to forcibly remount, call drive.mount(\"/content/drive\", force_remount=True).\n"
          ]
        }
      ]
    },
    {
      "cell_type": "code",
      "source": [
        "from sklearn.model_selection import train_test_split\n",
        "x = np.array(x)\n",
        "y = np.array(y)\n",
        "print('카테고리 개수', np.bincount(y))\n",
        "print('전처리 확인', x.shape)"
      ],
      "metadata": {
        "colab": {
          "base_uri": "https://localhost:8080/"
        },
        "id": "aPOgMeh2fVDm",
        "outputId": "4232e41e-9aca-4726-d544-1c56f1dd2a75"
      },
      "execution_count": 62,
      "outputs": [
        {
          "output_type": "stream",
          "name": "stdout",
          "text": [
            "카테고리 개수 [ 392 1001]\n",
            "전처리 확인 (1393, 64, 64, 3)\n"
          ]
        }
      ]
    },
    {
      "cell_type": "code",
      "source": [
        "x_train, x_test, y_train, y_test = train_test_split(x, y, test_size=0.2)"
      ],
      "metadata": {
        "id": "Uu_1HRO6m-JQ"
      },
      "execution_count": 63,
      "outputs": []
    },
    {
      "cell_type": "code",
      "source": [
        "#전처리 시간이 너무 오래 걸리면(데이터 많을때)\n",
        "#xy = (x_train, x_test, y_train, y_test)\n",
        "#np.save('/content/drive/MyDrive/preprocessing_data.npy', xy)\n"
      ],
      "metadata": {
        "id": "xdnbQmdDnlX_"
      },
      "execution_count": 64,
      "outputs": []
    },
    {
      "cell_type": "code",
      "source": [
        "#x_train, x_test, y_train, y_test = np.load('/content/drive/MyDrive/preprocessing_data.npy', allow_pickle=True)"
      ],
      "metadata": {
        "id": "FF-P-G5qomXe"
      },
      "execution_count": 65,
      "outputs": []
    },
    {
      "cell_type": "code",
      "source": [
        "x_train = x_train / 255.\n",
        "x_test = x_test / 255."
      ],
      "metadata": {
        "id": "dZQXg8CXoufA"
      },
      "execution_count": 66,
      "outputs": []
    },
    {
      "cell_type": "code",
      "source": [
        "#구글넷 실습\n",
        "#레즈넷 실습 -> fine tuning"
      ],
      "metadata": {
        "id": "-VnblSznpPhA"
      },
      "execution_count": 67,
      "outputs": []
    },
    {
      "cell_type": "code",
      "source": [
        "#개선의 여지 해상도 수정 (전처리도 수정 해야함) ex) 64X64 -> 100X100\n",
        "input_layer = layers.Input(shape = (64, 64, 3), name='start_layer')\n",
        "\n",
        "#개선의 여지 conv2d 수정(성능이 매우 잘 나온다면 - 모델 다이어트,\n",
        "#성능이 안나온다면 channel 수, 레이어 추가)\n",
        "tower_1 = layers.Conv2D(64, kernel_size = (1,1) , padding='same' , activation= 'relu')(input_layer)\n",
        "\n",
        "tower_2 = layers.Conv2D(64, kernel_size = (1,1) , padding='same' , activation= 'relu')(input_layer)\n",
        "tower_2 = layers.Conv2D(64, kernel_size = (3,3) , padding='same' , activation= 'relu')(tower_2)\n",
        "\n",
        "tower_3 = layers.Conv2D(64, kernel_size = (1,1) , padding='same' , activation= 'relu')(input_layer)\n",
        "tower_3 = layers.Conv2D(64, kernel_size = (5,5) , padding='same' , activation= 'relu')(tower_3)\n",
        "\n",
        "tower_4 = layers.MaxPool2D(pool_size=(3,3), strides=(1,1) , padding='same')(input_layer)\n",
        "tower_4 = layers.Conv2D(64, kernel_size=(1,1) , padding='same' , activation='relu')(tower_4)\n",
        "\n",
        "concat_layer = layers.concatenate([tower_1, tower_2,tower_3,tower_4], axis=3)\n",
        "\n",
        "tower_2_1 = layers.Conv2D(120, kernel_size = (1,1) , padding='same' , activation= 'relu')(concat_layer)\n",
        "\n",
        "tower_2_2 = layers.Conv2D(120, kernel_size = (1,1) , padding='same' , activation= 'relu')(concat_layer)\n",
        "tower_2_2 = layers.Conv2D(120, kernel_size = (3,3) , padding='same' , activation= 'relu')(tower_2_2)\n",
        "\n",
        "tower_2_3 = layers.Conv2D(120, kernel_size = (1,1) , padding='same' , activation= 'relu')(concat_layer)\n",
        "tower_2_3 = layers.Conv2D(120, kernel_size = (5,5) , padding='same' , activation= 'relu')(tower_2_3)\n",
        "\n",
        "tower_2_4 = layers.MaxPool2D(pool_size=(3,3), strides=(1,1) , padding='same')(concat_layer)\n",
        "tower_2_4 = layers.Conv2D(120, kernel_size=(1,1) , padding='same' , activation='relu')(tower_2_4)\n",
        "\n",
        "concat_layer2 = layers.concatenate([tower_2_1, tower_2_2,tower_2_3,tower_2_4], axis=3)\n",
        "\n",
        "tower_3_1 = layers.Conv2D(256, kernel_size = (1,1) , padding='same' , activation= 'relu')(concat_layer2)\n",
        "\n",
        "tower_3_2 = layers.Conv2D(256, kernel_size = (1,1) , padding='same' , activation= 'relu')(concat_layer2)\n",
        "tower_3_2 = layers.Conv2D(256, kernel_size = (3,3) , padding='same' , activation= 'relu')(tower_3_2)\n",
        "\n",
        "tower_3_3 = layers.Conv2D(256, kernel_size = (1,1) , padding='same' , activation= 'relu')(concat_layer2)\n",
        "tower_3_3 = layers.Conv2D(256, kernel_size = (5,5) , padding='same' , activation= 'relu')(tower_3_3)\n",
        "\n",
        "tower_3_4 = layers.MaxPool2D(pool_size=(3,3), strides=(1,1) , padding='same')(concat_layer2)\n",
        "tower_3_4 = layers.Conv2D(256, kernel_size=(1,1) , padding='same' , activation='relu')(tower_3_4)\n",
        "\n",
        "final_concat_layer = layers.concatenate([tower_3_1, tower_3_2,tower_3_3,tower_3_4], axis=3)\n",
        "average_pooling_layer = layers.AveragePooling2D(pool_size=(16,16),strides=(16,16))(final_concat_layer)\n",
        "flat_layer = layers.Flatten()(average_pooling_layer)\n",
        "\n",
        "#개선의 여지 - Dense 1층 추가\n",
        "output_layer = layers.Dense(1 , activation = 'sigmoid')(flat_layer)\n",
        "\n",
        "google_net_model = models.Model(inputs = input_layer, outputs = output_layer)\n",
        "google_net_model.summary()"
      ],
      "metadata": {
        "id": "LA8Y7WaT9QEI",
        "colab": {
          "base_uri": "https://localhost:8080/"
        },
        "outputId": "f5a3dfed-ab58-4ce9-a693-7dbf2244450e"
      },
      "execution_count": 68,
      "outputs": [
        {
          "output_type": "stream",
          "name": "stdout",
          "text": [
            "Model: \"model_2\"\n",
            "__________________________________________________________________________________________________\n",
            " Layer (type)                Output Shape                 Param #   Connected to                  \n",
            "==================================================================================================\n",
            " start_layer (InputLayer)    [(None, 64, 64, 3)]          0         []                            \n",
            "                                                                                                  \n",
            " conv2d_31 (Conv2D)          (None, 64, 64, 64)           256       ['start_layer[0][0]']         \n",
            "                                                                                                  \n",
            " conv2d_33 (Conv2D)          (None, 64, 64, 64)           256       ['start_layer[0][0]']         \n",
            "                                                                                                  \n",
            " max_pooling2d_5 (MaxPoolin  (None, 64, 64, 3)            0         ['start_layer[0][0]']         \n",
            " g2D)                                                                                             \n",
            "                                                                                                  \n",
            " conv2d_30 (Conv2D)          (None, 64, 64, 64)           256       ['start_layer[0][0]']         \n",
            "                                                                                                  \n",
            " conv2d_32 (Conv2D)          (None, 64, 64, 64)           36928     ['conv2d_31[0][0]']           \n",
            "                                                                                                  \n",
            " conv2d_34 (Conv2D)          (None, 64, 64, 64)           102464    ['conv2d_33[0][0]']           \n",
            "                                                                                                  \n",
            " conv2d_35 (Conv2D)          (None, 64, 64, 64)           256       ['max_pooling2d_5[0][0]']     \n",
            "                                                                                                  \n",
            " concatenate_5 (Concatenate  (None, 64, 64, 256)          0         ['conv2d_30[0][0]',           \n",
            " )                                                                   'conv2d_32[0][0]',           \n",
            "                                                                     'conv2d_34[0][0]',           \n",
            "                                                                     'conv2d_35[0][0]']           \n",
            "                                                                                                  \n",
            " conv2d_37 (Conv2D)          (None, 64, 64, 120)          30840     ['concatenate_5[0][0]']       \n",
            "                                                                                                  \n",
            " conv2d_39 (Conv2D)          (None, 64, 64, 120)          30840     ['concatenate_5[0][0]']       \n",
            "                                                                                                  \n",
            " max_pooling2d_6 (MaxPoolin  (None, 64, 64, 256)          0         ['concatenate_5[0][0]']       \n",
            " g2D)                                                                                             \n",
            "                                                                                                  \n",
            " conv2d_36 (Conv2D)          (None, 64, 64, 120)          30840     ['concatenate_5[0][0]']       \n",
            "                                                                                                  \n",
            " conv2d_38 (Conv2D)          (None, 64, 64, 120)          129720    ['conv2d_37[0][0]']           \n",
            "                                                                                                  \n",
            " conv2d_40 (Conv2D)          (None, 64, 64, 120)          360120    ['conv2d_39[0][0]']           \n",
            "                                                                                                  \n",
            " conv2d_41 (Conv2D)          (None, 64, 64, 120)          30840     ['max_pooling2d_6[0][0]']     \n",
            "                                                                                                  \n",
            " concatenate_6 (Concatenate  (None, 64, 64, 480)          0         ['conv2d_36[0][0]',           \n",
            " )                                                                   'conv2d_38[0][0]',           \n",
            "                                                                     'conv2d_40[0][0]',           \n",
            "                                                                     'conv2d_41[0][0]']           \n",
            "                                                                                                  \n",
            " conv2d_43 (Conv2D)          (None, 64, 64, 256)          123136    ['concatenate_6[0][0]']       \n",
            "                                                                                                  \n",
            " conv2d_45 (Conv2D)          (None, 64, 64, 256)          123136    ['concatenate_6[0][0]']       \n",
            "                                                                                                  \n",
            " max_pooling2d_7 (MaxPoolin  (None, 64, 64, 480)          0         ['concatenate_6[0][0]']       \n",
            " g2D)                                                                                             \n",
            "                                                                                                  \n",
            " conv2d_42 (Conv2D)          (None, 64, 64, 256)          123136    ['concatenate_6[0][0]']       \n",
            "                                                                                                  \n",
            " conv2d_44 (Conv2D)          (None, 64, 64, 256)          590080    ['conv2d_43[0][0]']           \n",
            "                                                                                                  \n",
            " conv2d_46 (Conv2D)          (None, 64, 64, 256)          1638656   ['conv2d_45[0][0]']           \n",
            "                                                                                                  \n",
            " conv2d_47 (Conv2D)          (None, 64, 64, 256)          123136    ['max_pooling2d_7[0][0]']     \n",
            "                                                                                                  \n",
            " concatenate_7 (Concatenate  (None, 64, 64, 1024)         0         ['conv2d_42[0][0]',           \n",
            " )                                                                   'conv2d_44[0][0]',           \n",
            "                                                                     'conv2d_46[0][0]',           \n",
            "                                                                     'conv2d_47[0][0]']           \n",
            "                                                                                                  \n",
            " average_pooling2d_2 (Avera  (None, 4, 4, 1024)           0         ['concatenate_7[0][0]']       \n",
            " gePooling2D)                                                                                     \n",
            "                                                                                                  \n",
            " flatten_2 (Flatten)         (None, 16384)                0         ['average_pooling2d_2[0][0]'] \n",
            "                                                                                                  \n",
            " dense_2 (Dense)             (None, 1)                    16385     ['flatten_2[0][0]']           \n",
            "                                                                                                  \n",
            "==================================================================================================\n",
            "Total params: 3491281 (13.32 MB)\n",
            "Trainable params: 3491281 (13.32 MB)\n",
            "Non-trainable params: 0 (0.00 Byte)\n",
            "__________________________________________________________________________________________________\n"
          ]
        }
      ]
    },
    {
      "cell_type": "code",
      "source": [
        "#개선 여지 hyper parameter tuning\n",
        "# ex) tf.keras.optimizers.Adam()\n",
        "tf.keras.optimizers.Adam(\n",
        "    learning_rate=0.001, beta_1=0.9, beta_2=0.999, epsilon=1e-07, amsgrad=False,\n",
        "    name='Adam'\n",
        ")\n",
        "google_net_model.compile(loss='binary_crossentropy',\n",
        "                         optimizer='Adam', metrics=['accuracy'])"
      ],
      "metadata": {
        "id": "4Amos75P9Va3"
      },
      "execution_count": 73,
      "outputs": []
    },
    {
      "cell_type": "code",
      "source": [
        "check_point_path = '/content/drive/MyDrive/cycle_gan_checkpoint'\n",
        "mc = tf.keras.callbacks.ModelCheckpoint(check_point_path,\n",
        "                                   monitor='val_loss',\n",
        "                                   save_best_only=True)\n",
        "\n",
        "es = tf.keras.callbacks.EarlyStopping(monitor='val_loss',\n",
        "                                      patience=7)"
      ],
      "metadata": {
        "id": "NBjtzjtj_hq-"
      },
      "execution_count": 74,
      "outputs": []
    },
    {
      "cell_type": "code",
      "source": [
        "google_net_model.fit(x_train, y_train, batch_size=32, epochs=30,\n",
        "                     callbacks=[mc, es],\n",
        "                     validation_data=(x_test, y_test))"
      ],
      "metadata": {
        "id": "RUcMxh5a9XA5",
        "colab": {
          "base_uri": "https://localhost:8080/"
        },
        "outputId": "6eca6f4a-581d-49fb-eb26-c967d814117f"
      },
      "execution_count": 75,
      "outputs": [
        {
          "output_type": "stream",
          "name": "stdout",
          "text": [
            "Epoch 1/30\n",
            "35/35 [==============================] - 27s 645ms/step - loss: 0.5984 - accuracy: 0.7074 - val_loss: 0.5800 - val_accuracy: 0.7133\n",
            "Epoch 2/30\n",
            "35/35 [==============================] - 20s 584ms/step - loss: 0.5583 - accuracy: 0.7226 - val_loss: 0.5152 - val_accuracy: 0.7240\n",
            "Epoch 3/30\n",
            "35/35 [==============================] - 20s 570ms/step - loss: 0.4945 - accuracy: 0.7415 - val_loss: 0.4508 - val_accuracy: 0.7563\n",
            "Epoch 4/30\n",
            "35/35 [==============================] - 20s 578ms/step - loss: 0.4131 - accuracy: 0.8142 - val_loss: 0.3466 - val_accuracy: 0.8495\n",
            "Epoch 5/30\n",
            "35/35 [==============================] - 20s 571ms/step - loss: 0.3836 - accuracy: 0.8276 - val_loss: 0.3320 - val_accuracy: 0.8459\n",
            "Epoch 6/30\n",
            "35/35 [==============================] - 21s 616ms/step - loss: 0.3669 - accuracy: 0.8285 - val_loss: 0.2950 - val_accuracy: 0.8530\n",
            "Epoch 7/30\n",
            "35/35 [==============================] - 17s 487ms/step - loss: 0.3202 - accuracy: 0.8618 - val_loss: 0.2969 - val_accuracy: 0.8710\n",
            "Epoch 8/30\n",
            "35/35 [==============================] - 17s 489ms/step - loss: 0.2882 - accuracy: 0.8734 - val_loss: 0.3939 - val_accuracy: 0.8244\n",
            "Epoch 9/30\n",
            "35/35 [==============================] - 17s 493ms/step - loss: 0.3024 - accuracy: 0.8752 - val_loss: 0.3408 - val_accuracy: 0.8530\n",
            "Epoch 10/30\n",
            "35/35 [==============================] - 20s 572ms/step - loss: 0.2782 - accuracy: 0.8878 - val_loss: 0.2792 - val_accuracy: 0.8817\n",
            "Epoch 11/30\n",
            "35/35 [==============================] - 20s 571ms/step - loss: 0.2615 - accuracy: 0.8887 - val_loss: 0.2660 - val_accuracy: 0.8853\n",
            "Epoch 12/30\n",
            "35/35 [==============================] - 17s 493ms/step - loss: 0.2277 - accuracy: 0.9013 - val_loss: 0.2993 - val_accuracy: 0.8674\n",
            "Epoch 13/30\n",
            "35/35 [==============================] - 17s 491ms/step - loss: 0.2283 - accuracy: 0.8968 - val_loss: 0.3923 - val_accuracy: 0.8566\n",
            "Epoch 14/30\n",
            "35/35 [==============================] - 20s 584ms/step - loss: 0.2150 - accuracy: 0.9066 - val_loss: 0.2660 - val_accuracy: 0.8746\n",
            "Epoch 15/30\n",
            "35/35 [==============================] - 20s 577ms/step - loss: 0.1984 - accuracy: 0.9102 - val_loss: 0.2501 - val_accuracy: 0.8889\n",
            "Epoch 16/30\n",
            "35/35 [==============================] - 17s 492ms/step - loss: 0.1993 - accuracy: 0.9165 - val_loss: 0.2853 - val_accuracy: 0.8781\n",
            "Epoch 17/30\n",
            "35/35 [==============================] - 17s 492ms/step - loss: 0.1794 - accuracy: 0.9246 - val_loss: 0.2677 - val_accuracy: 0.8996\n",
            "Epoch 18/30\n",
            "35/35 [==============================] - 20s 576ms/step - loss: 0.1783 - accuracy: 0.9210 - val_loss: 0.2453 - val_accuracy: 0.8961\n",
            "Epoch 19/30\n",
            "35/35 [==============================] - 17s 488ms/step - loss: 0.1419 - accuracy: 0.9470 - val_loss: 0.2699 - val_accuracy: 0.9104\n",
            "Epoch 20/30\n",
            "35/35 [==============================] - 17s 491ms/step - loss: 0.1404 - accuracy: 0.9390 - val_loss: 0.2872 - val_accuracy: 0.8925\n",
            "Epoch 21/30\n",
            "35/35 [==============================] - 17s 494ms/step - loss: 0.1422 - accuracy: 0.9515 - val_loss: 0.2881 - val_accuracy: 0.8889\n",
            "Epoch 22/30\n",
            "35/35 [==============================] - 17s 493ms/step - loss: 0.1476 - accuracy: 0.9408 - val_loss: 0.3522 - val_accuracy: 0.8853\n",
            "Epoch 23/30\n",
            "35/35 [==============================] - 17s 491ms/step - loss: 0.1176 - accuracy: 0.9533 - val_loss: 0.3068 - val_accuracy: 0.8996\n",
            "Epoch 24/30\n",
            "35/35 [==============================] - 17s 488ms/step - loss: 0.0935 - accuracy: 0.9659 - val_loss: 0.3196 - val_accuracy: 0.8961\n",
            "Epoch 25/30\n",
            "35/35 [==============================] - 17s 490ms/step - loss: 0.1359 - accuracy: 0.9434 - val_loss: 0.3138 - val_accuracy: 0.8996\n"
          ]
        },
        {
          "output_type": "execute_result",
          "data": {
            "text/plain": [
              "<keras.src.callbacks.History at 0x78a24c199450>"
            ]
          },
          "metadata": {},
          "execution_count": 75
        }
      ]
    },
    {
      "cell_type": "code",
      "source": [
        "##our model inference code\n",
        "#inference만 진행할 시, 가장 위 import library 실행 -> 모델 빌드하는 부분 실행\n",
        "google_net_model.load_weights('/content/drive/MyDrive/cycle_gan_checkpoint')"
      ],
      "metadata": {
        "id": "9A2JPfnk-7d4",
        "colab": {
          "base_uri": "https://localhost:8080/"
        },
        "outputId": "0bb97712-d05c-44f6-81bc-ea343b252b34"
      },
      "execution_count": 76,
      "outputs": [
        {
          "output_type": "execute_result",
          "data": {
            "text/plain": [
              "<tensorflow.python.checkpoint.checkpoint.CheckpointLoadStatus at 0x78a26019e650>"
            ]
          },
          "metadata": {},
          "execution_count": 76
        }
      ]
    },
    {
      "cell_type": "code",
      "source": [
        "from google.colab import files\n",
        "f = files.upload()"
      ],
      "metadata": {
        "id": "uXRYzkcLEzJQ",
        "colab": {
          "base_uri": "https://localhost:8080/",
          "height": 77
        },
        "outputId": "03b57516-ecea-4fc7-8f87-39bc8a64512d"
      },
      "execution_count": 77,
      "outputs": [
        {
          "output_type": "display_data",
          "data": {
            "text/plain": [
              "<IPython.core.display.HTML object>"
            ],
            "text/html": [
              "\n",
              "     <input type=\"file\" id=\"files-6bf89f77-3e4b-4f38-b995-dd85c5da3f9e\" name=\"files[]\" multiple disabled\n",
              "        style=\"border:none\" />\n",
              "     <output id=\"result-6bf89f77-3e4b-4f38-b995-dd85c5da3f9e\">\n",
              "      Upload widget is only available when the cell has been executed in the\n",
              "      current browser session. Please rerun this cell to enable.\n",
              "      </output>\n",
              "      <script>// Copyright 2017 Google LLC\n",
              "//\n",
              "// Licensed under the Apache License, Version 2.0 (the \"License\");\n",
              "// you may not use this file except in compliance with the License.\n",
              "// You may obtain a copy of the License at\n",
              "//\n",
              "//      http://www.apache.org/licenses/LICENSE-2.0\n",
              "//\n",
              "// Unless required by applicable law or agreed to in writing, software\n",
              "// distributed under the License is distributed on an \"AS IS\" BASIS,\n",
              "// WITHOUT WARRANTIES OR CONDITIONS OF ANY KIND, either express or implied.\n",
              "// See the License for the specific language governing permissions and\n",
              "// limitations under the License.\n",
              "\n",
              "/**\n",
              " * @fileoverview Helpers for google.colab Python module.\n",
              " */\n",
              "(function(scope) {\n",
              "function span(text, styleAttributes = {}) {\n",
              "  const element = document.createElement('span');\n",
              "  element.textContent = text;\n",
              "  for (const key of Object.keys(styleAttributes)) {\n",
              "    element.style[key] = styleAttributes[key];\n",
              "  }\n",
              "  return element;\n",
              "}\n",
              "\n",
              "// Max number of bytes which will be uploaded at a time.\n",
              "const MAX_PAYLOAD_SIZE = 100 * 1024;\n",
              "\n",
              "function _uploadFiles(inputId, outputId) {\n",
              "  const steps = uploadFilesStep(inputId, outputId);\n",
              "  const outputElement = document.getElementById(outputId);\n",
              "  // Cache steps on the outputElement to make it available for the next call\n",
              "  // to uploadFilesContinue from Python.\n",
              "  outputElement.steps = steps;\n",
              "\n",
              "  return _uploadFilesContinue(outputId);\n",
              "}\n",
              "\n",
              "// This is roughly an async generator (not supported in the browser yet),\n",
              "// where there are multiple asynchronous steps and the Python side is going\n",
              "// to poll for completion of each step.\n",
              "// This uses a Promise to block the python side on completion of each step,\n",
              "// then passes the result of the previous step as the input to the next step.\n",
              "function _uploadFilesContinue(outputId) {\n",
              "  const outputElement = document.getElementById(outputId);\n",
              "  const steps = outputElement.steps;\n",
              "\n",
              "  const next = steps.next(outputElement.lastPromiseValue);\n",
              "  return Promise.resolve(next.value.promise).then((value) => {\n",
              "    // Cache the last promise value to make it available to the next\n",
              "    // step of the generator.\n",
              "    outputElement.lastPromiseValue = value;\n",
              "    return next.value.response;\n",
              "  });\n",
              "}\n",
              "\n",
              "/**\n",
              " * Generator function which is called between each async step of the upload\n",
              " * process.\n",
              " * @param {string} inputId Element ID of the input file picker element.\n",
              " * @param {string} outputId Element ID of the output display.\n",
              " * @return {!Iterable<!Object>} Iterable of next steps.\n",
              " */\n",
              "function* uploadFilesStep(inputId, outputId) {\n",
              "  const inputElement = document.getElementById(inputId);\n",
              "  inputElement.disabled = false;\n",
              "\n",
              "  const outputElement = document.getElementById(outputId);\n",
              "  outputElement.innerHTML = '';\n",
              "\n",
              "  const pickedPromise = new Promise((resolve) => {\n",
              "    inputElement.addEventListener('change', (e) => {\n",
              "      resolve(e.target.files);\n",
              "    });\n",
              "  });\n",
              "\n",
              "  const cancel = document.createElement('button');\n",
              "  inputElement.parentElement.appendChild(cancel);\n",
              "  cancel.textContent = 'Cancel upload';\n",
              "  const cancelPromise = new Promise((resolve) => {\n",
              "    cancel.onclick = () => {\n",
              "      resolve(null);\n",
              "    };\n",
              "  });\n",
              "\n",
              "  // Wait for the user to pick the files.\n",
              "  const files = yield {\n",
              "    promise: Promise.race([pickedPromise, cancelPromise]),\n",
              "    response: {\n",
              "      action: 'starting',\n",
              "    }\n",
              "  };\n",
              "\n",
              "  cancel.remove();\n",
              "\n",
              "  // Disable the input element since further picks are not allowed.\n",
              "  inputElement.disabled = true;\n",
              "\n",
              "  if (!files) {\n",
              "    return {\n",
              "      response: {\n",
              "        action: 'complete',\n",
              "      }\n",
              "    };\n",
              "  }\n",
              "\n",
              "  for (const file of files) {\n",
              "    const li = document.createElement('li');\n",
              "    li.append(span(file.name, {fontWeight: 'bold'}));\n",
              "    li.append(span(\n",
              "        `(${file.type || 'n/a'}) - ${file.size} bytes, ` +\n",
              "        `last modified: ${\n",
              "            file.lastModifiedDate ? file.lastModifiedDate.toLocaleDateString() :\n",
              "                                    'n/a'} - `));\n",
              "    const percent = span('0% done');\n",
              "    li.appendChild(percent);\n",
              "\n",
              "    outputElement.appendChild(li);\n",
              "\n",
              "    const fileDataPromise = new Promise((resolve) => {\n",
              "      const reader = new FileReader();\n",
              "      reader.onload = (e) => {\n",
              "        resolve(e.target.result);\n",
              "      };\n",
              "      reader.readAsArrayBuffer(file);\n",
              "    });\n",
              "    // Wait for the data to be ready.\n",
              "    let fileData = yield {\n",
              "      promise: fileDataPromise,\n",
              "      response: {\n",
              "        action: 'continue',\n",
              "      }\n",
              "    };\n",
              "\n",
              "    // Use a chunked sending to avoid message size limits. See b/62115660.\n",
              "    let position = 0;\n",
              "    do {\n",
              "      const length = Math.min(fileData.byteLength - position, MAX_PAYLOAD_SIZE);\n",
              "      const chunk = new Uint8Array(fileData, position, length);\n",
              "      position += length;\n",
              "\n",
              "      const base64 = btoa(String.fromCharCode.apply(null, chunk));\n",
              "      yield {\n",
              "        response: {\n",
              "          action: 'append',\n",
              "          file: file.name,\n",
              "          data: base64,\n",
              "        },\n",
              "      };\n",
              "\n",
              "      let percentDone = fileData.byteLength === 0 ?\n",
              "          100 :\n",
              "          Math.round((position / fileData.byteLength) * 100);\n",
              "      percent.textContent = `${percentDone}% done`;\n",
              "\n",
              "    } while (position < fileData.byteLength);\n",
              "  }\n",
              "\n",
              "  // All done.\n",
              "  yield {\n",
              "    response: {\n",
              "      action: 'complete',\n",
              "    }\n",
              "  };\n",
              "}\n",
              "\n",
              "scope.google = scope.google || {};\n",
              "scope.google.colab = scope.google.colab || {};\n",
              "scope.google.colab._files = {\n",
              "  _uploadFiles,\n",
              "  _uploadFilesContinue,\n",
              "};\n",
              "})(self);\n",
              "</script> "
            ]
          },
          "metadata": {}
        },
        {
          "output_type": "stream",
          "name": "stdout",
          "text": [
            "Saving waldo2-065.jpeg to waldo2-065.jpeg\n"
          ]
        }
      ]
    },
    {
      "cell_type": "code",
      "source": [
        "file_name = list(f.keys())[0]\n",
        "test_img = PIL.Image.open(file_name)\n",
        "test_img = test_img.resize((64, 64))\n",
        "test_img = test_img.convert('RGB')\n",
        "#넘파이 행렬로 바꿈\n",
        "data = np.asarray(test_img)\n",
        "test_image_tensor = np.array([data])#x랑 y 현재 리슽 안에 넘파이 형태 있는 형태\n",
        "test_image_tensor = test_image_tensor / 255.\n",
        "test_image_tensor.shape"
      ],
      "metadata": {
        "colab": {
          "base_uri": "https://localhost:8080/"
        },
        "id": "QK6xUHEmJ7CN",
        "outputId": "5ee60202-2373-4d0e-86d0-372a950279f6"
      },
      "execution_count": 78,
      "outputs": [
        {
          "output_type": "execute_result",
          "data": {
            "text/plain": [
              "(1, 64, 64, 3)"
            ]
          },
          "metadata": {},
          "execution_count": 78
        }
      ]
    },
    {
      "cell_type": "code",
      "source": [
        "result = google_net_model.predict(test_image_tensor)\n",
        "result[0][0]\n",
        "if result[0][0] > 0.5:\n",
        "  print(f'{result[0][0] * 100} % 확률로 just person')\n",
        "else:\n",
        "  print(f'{(1-result[0][0]) * 100} % 확률로 is waldo')"
      ],
      "metadata": {
        "colab": {
          "base_uri": "https://localhost:8080/"
        },
        "id": "RadOjSMtMh2c",
        "outputId": "440e71e7-4f5f-40e5-b3b5-ae033c456e85"
      },
      "execution_count": 79,
      "outputs": [
        {
          "output_type": "stream",
          "name": "stdout",
          "text": [
            "1/1 [==============================] - 0s 181ms/step\n",
            "99.99703512421547 % 확률로 is waldo\n"
          ]
        }
      ]
    },
    {
      "cell_type": "code",
      "source": [],
      "metadata": {
        "id": "BkQysbg4M_8d"
      },
      "execution_count": null,
      "outputs": []
    }
  ]
}